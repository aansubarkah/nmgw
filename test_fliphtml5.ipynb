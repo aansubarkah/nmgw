{
 "cells": [
  {
   "cell_type": "code",
   "execution_count": 93,
   "metadata": {},
   "outputs": [],
   "source": [
    "import os, glob, json, requests, re, shutil\n",
    "\n",
    "\n",
    "from selenium import webdriver\n",
    "from webdriver_manager.chrome import ChromeDriverManager\n",
    "from selenium.webdriver.chrome.service import Service as ChromeService\n",
    "from selenium.webdriver.common.desired_capabilities import DesiredCapabilities\n",
    "from PIL import Image\n"
   ]
  },
  {
   "cell_type": "code",
   "execution_count": 94,
   "metadata": {},
   "outputs": [],
   "source": [
    "url_to = 'https://online.fliphtml5.com/iequa/kkdd/'"
   ]
  },
  {
   "cell_type": "code",
   "execution_count": 95,
   "metadata": {},
   "outputs": [],
   "source": [
    "def process_browser_log_entry(entry):\n",
    "    response = json.loads(entry['message'])['message']\n",
    "    return response"
   ]
  },
  {
   "cell_type": "code",
   "execution_count": 96,
   "metadata": {},
   "outputs": [],
   "source": [
    "options = webdriver.ChromeOptions()\n",
    "options.add_argument('w3c')\n",
    "options.add_argument('headless')\n",
    "options.add_argument('--disable-gpu')\n",
    "options.add_argument('--disable-extensions')\n",
    "options.add_argument('--window-size=1920,1080')\n",
    "options.add_argument('--start-maximized')\n",
    "\n",
    "caps = DesiredCapabilities.CHROME\n",
    "caps['goog:loggingPrefs'] = {'performance': 'ALL'}\n",
    "\n",
    "options.set_capability('cloud:options', caps)\n",
    "\n",
    "service = ChromeService(ChromeDriverManager().install())\n",
    "DRIVER = webdriver.Chrome(service=service, options=options)"
   ]
  },
  {
   "cell_type": "code",
   "execution_count": 97,
   "metadata": {},
   "outputs": [],
   "source": [
    "DRIVER.get(url_to)"
   ]
  },
  {
   "cell_type": "code",
   "execution_count": 98,
   "metadata": {},
   "outputs": [],
   "source": [
    "browser_log = DRIVER.get_log('performance') \n",
    "events = [process_browser_log_entry(entry) for entry in browser_log]\n",
    "events = [event for event in events if 'Network.response' in event['method']]"
   ]
  },
  {
   "cell_type": "code",
   "execution_count": 99,
   "metadata": {},
   "outputs": [
    {
     "name": "stdout",
     "output_type": "stream",
     "text": [
      "https://online.fliphtml5.com/iequa/kkdd/javascript/config.js?1675846573\n"
     ]
    }
   ],
   "source": [
    "url_config = ''\n",
    "for event in events:\n",
    "    if 'params' in event and 'response' in event['params'] and 'url' in event['params']['response'] and 'config.js' in event['params']['response']['url']:\n",
    "        print(event['params']['response']['url'])\n",
    "        url_config = event['params']['response']['url']"
   ]
  },
  {
   "cell_type": "code",
   "execution_count": 100,
   "metadata": {},
   "outputs": [],
   "source": [
    "r = requests.get(url_config)"
   ]
  },
  {
   "cell_type": "code",
   "execution_count": 101,
   "metadata": {},
   "outputs": [],
   "source": [
    "data_json = r.text.replace('var htmlConfig = ', '').replace(';', '')"
   ]
  },
  {
   "cell_type": "code",
   "execution_count": 102,
   "metadata": {},
   "outputs": [],
   "source": [
    "data_json = json.loads(data_json)"
   ]
  },
  {
   "cell_type": "code",
   "execution_count": 103,
   "metadata": {},
   "outputs": [],
   "source": [
    "image_ls = data_json['fliphtml5_pages']"
   ]
  },
  {
   "cell_type": "code",
   "execution_count": 104,
   "metadata": {},
   "outputs": [],
   "source": [
    "#image_ls"
   ]
  },
  {
   "cell_type": "code",
   "execution_count": 105,
   "metadata": {},
   "outputs": [],
   "source": [
    "image_base_url = data_json['meta']['url'].replace('index.html', '') + data_json['bookConfig']['largePath']"
   ]
  },
  {
   "cell_type": "code",
   "execution_count": 106,
   "metadata": {},
   "outputs": [
    {
     "data": {
      "text/plain": [
       "'https://online.fliphtml5.com/iequa/kkdd/files/large/'"
      ]
     },
     "execution_count": 106,
     "metadata": {},
     "output_type": "execute_result"
    }
   ],
   "source": [
    "image_base_url"
   ]
  },
  {
   "cell_type": "code",
   "execution_count": 107,
   "metadata": {},
   "outputs": [],
   "source": [
    "filename = data_json['meta']['title']\n",
    "filename = re.sub('[^0-9a-zA-Z]+', '_', filename) + '.pdf'"
   ]
  },
  {
   "cell_type": "code",
   "execution_count": 108,
   "metadata": {},
   "outputs": [
    {
     "data": {
      "text/plain": [
       "'Bahan_Tayang_Stress_Management_Chapter_4_Avoid_.pdf'"
      ]
     },
     "execution_count": 108,
     "metadata": {},
     "output_type": "execute_result"
    }
   ],
   "source": [
    "filename"
   ]
  },
  {
   "cell_type": "code",
   "execution_count": 109,
   "metadata": {},
   "outputs": [],
   "source": [
    "if not os.path.exists('fliphtml5_temp'):\n",
    "    os.makedirs('fliphtml5_temp')\n",
    "\n",
    "for f in os.listdir('fliphtml5_temp'):\n",
    "    os.remove(os.path.join('fliphtml5_temp', f))"
   ]
  },
  {
   "cell_type": "code",
   "execution_count": 112,
   "metadata": {},
   "outputs": [
    {
     "name": "stdout",
     "output_type": "stream",
     "text": [
      "https://online.fliphtml5.com/iequa/kkdd/files/large/5e52b4184b1022f4a1b99a27c8d0aa12.jpg\n",
      "https://online.fliphtml5.com/iequa/kkdd/files/large/37693cfc748049e45d87b8c7d8b9aacd.jpg\n",
      "https://online.fliphtml5.com/iequa/kkdd/files/large/e6cdbdf8135f776cbc6f962f20056c7f.jpg\n",
      "https://online.fliphtml5.com/iequa/kkdd/files/large/d9d4f495e875a2e075a1a4a6e1b9770f.jpg\n",
      "https://online.fliphtml5.com/iequa/kkdd/files/large/c467a926202625be53163e200463443e.jpg\n",
      "https://online.fliphtml5.com/iequa/kkdd/files/large/d0b1bfd50dd40176f497a2915a6e579b.jpg\n",
      "https://online.fliphtml5.com/iequa/kkdd/files/large/50a3edb92c326be64e1f2ccd2553aca8.jpg\n",
      "https://online.fliphtml5.com/iequa/kkdd/files/large/98511f963d72e390b80aee100dda064d.jpg\n",
      "https://online.fliphtml5.com/iequa/kkdd/files/large/f46beb405b2a3b907775da6fc7aa2289.jpg\n",
      "https://online.fliphtml5.com/iequa/kkdd/files/large/6d0b462c813d6fff0cda410c17a54440.jpg\n"
     ]
    }
   ],
   "source": [
    "if len(image_ls) > 0:\n",
    "    i = 0\n",
    "    images = []\n",
    "    for image in image_ls:\n",
    "        if isinstance(image[list(image.keys())[0]], list):\n",
    "            original_image_name = image[list(image.keys())[0]][0].replace('files/large/', '')\n",
    "        else:\n",
    "            original_image_name = image[list(image.keys())[0]].replace('files/large/', '')\n",
    "        image_url = image_base_url + original_image_name \n",
    "        print(i, image_url)\n",
    "        r = requests.get(image_url, stream=True)\n",
    "        if r.status_code == 200:\n",
    "            with open('fliphtml5_temp/' + str(i) + '.' + original_image_name.split('.')[-1], 'wb') as f:\n",
    "                r.raw.decode_content = True\n",
    "                shutil.copyfileobj(r.raw, f)\n",
    "                images.append(Image.open('fliphtml5_temp/' + str(i) + '.' + original_image_name.split('.')[-1]))\n",
    "\n",
    "            i += 1\n",
    "    \n",
    "    images[0].save(filename, save_all=True, append_images=images[1:])"
   ]
  },
  {
   "cell_type": "code",
   "execution_count": null,
   "metadata": {},
   "outputs": [],
   "source": [
    "DRIVER.quit()"
   ]
  },
  {
   "cell_type": "code",
   "execution_count": null,
   "metadata": {},
   "outputs": [
    {
     "data": {
      "text/plain": [
       "[{'n': ['5e52b4184b1022f4a1b99a27c8d0aa12.jpg'],\n",
       "  't': './files/thumb/856bd39b46518a2837c9b6121601c415.jpg'},\n",
       " {'n': ['37693cfc748049e45d87b8c7d8b9aacd.jpg'],\n",
       "  't': './files/thumb/7831fc6814a693477f41c070f218d3de.jpg'},\n",
       " {'n': ['e6cdbdf8135f776cbc6f962f20056c7f.jpg'],\n",
       "  't': './files/thumb/dcfe0b3ef8eb8156a5e83949c2e2f7b6.jpg'},\n",
       " {'n': ['d9d4f495e875a2e075a1a4a6e1b9770f.jpg'],\n",
       "  't': './files/thumb/aea1e33f16dc583f59f3742eeee96b03.jpg'},\n",
       " {'n': ['c467a926202625be53163e200463443e.jpg'],\n",
       "  't': './files/thumb/e7f1750ff9b954647a71e50caa31bda7.jpg'},\n",
       " {'n': ['d0b1bfd50dd40176f497a2915a6e579b.jpg'],\n",
       "  't': './files/thumb/d0b1bfd50dd40176f497a2915a6e579b.jpg'},\n",
       " {'n': ['50a3edb92c326be64e1f2ccd2553aca8.jpg'],\n",
       "  't': './files/thumb/b11c3f22bffb354ac5305cb1f6477fa4.jpg'},\n",
       " {'n': ['98511f963d72e390b80aee100dda064d.jpg'],\n",
       "  't': './files/thumb/43ec517d68b6edd3015b3edc9a11367b.jpg'},\n",
       " {'n': ['f46beb405b2a3b907775da6fc7aa2289.jpg'],\n",
       "  't': './files/thumb/f78518fb11533620004f6cfd93aebee6.jpg'},\n",
       " {'n': ['6d0b462c813d6fff0cda410c17a54440.jpg'],\n",
       "  't': './files/thumb/cf326524548b2cf10050459e96fc97ad.jpg'}]"
      ]
     },
     "execution_count": 111,
     "metadata": {},
     "output_type": "execute_result"
    }
   ],
   "source": [
    "image_ls"
   ]
  },
  {
   "cell_type": "code",
   "execution_count": null,
   "metadata": {},
   "outputs": [],
   "source": []
  }
 ],
 "metadata": {
  "kernelspec": {
   "display_name": "basangdata",
   "language": "python",
   "name": "python3"
  },
  "language_info": {
   "codemirror_mode": {
    "name": "ipython",
    "version": 3
   },
   "file_extension": ".py",
   "mimetype": "text/x-python",
   "name": "python",
   "nbconvert_exporter": "python",
   "pygments_lexer": "ipython3",
   "version": "3.10.8"
  },
  "orig_nbformat": 4
 },
 "nbformat": 4,
 "nbformat_minor": 2
}
